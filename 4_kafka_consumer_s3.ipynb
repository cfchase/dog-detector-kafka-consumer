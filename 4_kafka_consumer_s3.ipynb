{
 "cells": [
  {
   "cell_type": "code",
   "execution_count": null,
   "metadata": {},
   "outputs": [],
   "source": [
    "!pip install -r requirements.txt\n",
    "!pip install boto3"
   ]
  },
  {
   "cell_type": "code",
   "execution_count": null,
   "metadata": {},
   "outputs": [],
   "source": [
    "import os\n",
    "\n",
    "KAFKA_BOOTSTRAP_SERVER = os.environ.get('KAFKA_BOOTSTRAP_SERVER')\n",
    "KAFKA_SECURITY_PROTOCOL = os.environ.get('KAFKA_SECURITY_PROTOCOL')\n",
    "KAFKA_SASL_MECHANISM = os.environ.get('KAFKA_SASL_MECHANISM')\n",
    "KAFKA_USERNAME = os.environ.get('KAFKA_USERNAME')\n",
    "KAFKA_PASSWORD = os.environ.get('KAFKA_PASSWORD')\n",
    "\n",
    "KAFKA_TOPIC_IMAGES = os.environ.get('KAFKA_TOPIC_IMAGES')\n",
    "KAFKA_TOPIC_OBJECTS = os.environ.get('KAFKA_TOPIC_OBJECTS')\n",
    "KAFKA_TOPIC_NOTEBOOKS = 'notebook-test'\n",
    "\n",
    "KAFKA_CONSUMER_GROUP = 'notebook-save-s3'\n",
    "\n",
    "AWS_BUCKET = os.environ.get('AWS_BUCKET')\n",
    "AWS_PREFIX = os.environ.get('AWS_PREFIX')\n",
    "AWS_ACCESS_KEY_ID = os.environ.get('AWS_ACCESS_KEY_ID')\n",
    "AWS_SECRET_ACCESS_KEY = os.environ.get('AWS_SECRET_ACCESS_KEY')\n",
    "\n",
    "AWS_BUCKET = 'cchase-dev'\n",
    "AWS_PREFIX = 'object-detection'"
   ]
  },
  {
   "cell_type": "code",
   "execution_count": null,
   "metadata": {},
   "outputs": [],
   "source": [
    "import os\n",
    "import boto3\n",
    "import botocore\n",
    "\n",
    "key_id = os.environ.get('AWS_ACCESS_KEY_ID')\n",
    "secret_key = os.environ.get('AWS_SECRET_ACCESS_KEY')\n",
    "\n",
    "session = boto3.session.Session(aws_access_key_id=key_id,\n",
    "                                aws_secret_access_key=secret_key)\n",
    "\n",
    "s3_resource = session.resource(\n",
    "    's3',\n",
    "    config=botocore.client.Config(signature_version='s3v4')\n",
    ")\n"
   ]
  },
  {
   "cell_type": "code",
   "execution_count": null,
   "metadata": {},
   "outputs": [],
   "source": [
    "from kafka import KafkaConsumer, KafkaProducer\n",
    "import json\n",
    "import base64\n",
    "\n",
    "\n",
    "def create_consumer_save_s3():\n",
    "    consumer = KafkaConsumer(KAFKA_TOPIC_IMAGES,\n",
    "                             group_id=KAFKA_CONSUMER_GROUP,\n",
    "                             bootstrap_servers=[KAFKA_BOOTSTRAP_SERVER],\n",
    "                             security_protocol=KAFKA_SECURITY_PROTOCOL,\n",
    "                             sasl_mechanism=KAFKA_SASL_MECHANISM,\n",
    "                             sasl_plain_username=KAFKA_USERNAME,\n",
    "                             sasl_plain_password=KAFKA_PASSWORD,\n",
    "                             auto_offset_reset='earliest',\n",
    "                             api_version_auto_timeout_ms=30000,\n",
    "                             request_timeout_ms=450000)\n",
    "\n",
    "    print(f'Subscribed to \"{KAFKA_BOOTSTRAP_SERVER}\" consuming topic \"{KAFKA_TOPIC_IMAGES}\"...')\n",
    "\n",
    "    bucket = s3_resource.Bucket(AWS_BUCKET)\n",
    "    \n",
    "    try:\n",
    "        for record in consumer:\n",
    "            timestamp = record.timestamp\n",
    "            filename = f'{AWS_PREFIX}/kafka-messages/{timestamp}.json'\n",
    "            msg = record.value.decode('utf-8')\n",
    "            topic = record.topic\n",
    "            print(f'Writing msg to s3:\"{AWS_BUCKET}/{filename}\"')\n",
    "            json_obj = bucket.Object(filename)\n",
    "            json_obj.put(Body=msg)\n",
    "\n",
    "\n",
    "    finally:\n",
    "        print(\"Closing consumer...\")\n",
    "        consumer.close()\n",
    "    print(\"Kafka consumer stopped.\")\n",
    "\n"
   ]
  },
  {
   "cell_type": "code",
   "execution_count": null,
   "metadata": {},
   "outputs": [],
   "source": [
    "\n",
    "try:\n",
    "    create_consumer_save_s3()\n",
    "except KeyboardInterrupt:\n",
    "    print('Stopped')\n"
   ]
  },
  {
   "cell_type": "code",
   "execution_count": null,
   "metadata": {},
   "outputs": [],
   "source": []
  }
 ],
 "metadata": {
  "kernelspec": {
   "display_name": "Python 3",
   "language": "python",
   "name": "python3"
  },
  "language_info": {
   "codemirror_mode": {
    "name": "ipython",
    "version": 3
   },
   "file_extension": ".py",
   "mimetype": "text/x-python",
   "name": "python",
   "nbconvert_exporter": "python",
   "pygments_lexer": "ipython3",
   "version": "3.8.3"
  }
 },
 "nbformat": 4,
 "nbformat_minor": 4
}
